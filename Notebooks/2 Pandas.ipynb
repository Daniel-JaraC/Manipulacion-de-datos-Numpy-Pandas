{
 "cells": [
  {
   "cell_type": "markdown",
   "metadata": {},
   "source": [
    "# Importando la paquetería.\n",
    "https://pandas.pydata.org/"
   ]
  },
  {
   "cell_type": "code",
   "execution_count": 1,
   "metadata": {},
   "outputs": [],
   "source": [
    "import pandas as pd"
   ]
  },
  {
   "cell_type": "markdown",
   "metadata": {},
   "source": [
    "# ¿Cómo buscar ayuda desde la libreta de Jupyter?\n",
    "- <b>Opción 1</b>: Escribir <b>pd</b> luego escribir un punto y por último presionar la tecla \"<b>TAB</b>\" para mostrar diferentes opciones de autocompletado.\n",
    "- <b>Opción 2</b>: Buscar la documentación incluida con la función \"<b>pd?</b>\""
   ]
  },
  {
   "cell_type": "code",
   "execution_count": 2,
   "metadata": {},
   "outputs": [],
   "source": [
    "#pd?"
   ]
  },
  {
   "cell_type": "markdown",
   "metadata": {
    "collapsed": true
   },
   "source": [
    "# Estructuras de Pandas:\n",
    "<b>1) Series.</b>\n",
    "<br><b>2) Dataframes.</b>"
   ]
  },
  {
   "cell_type": "markdown",
   "metadata": {},
   "source": [
    "https://es.wikipedia.org/wiki/Anexo:Entidades_federativas_de_M%C3%A9xico_por_superficie,_poblaci%C3%B3n_y_densidad"
   ]
  },
  {
   "cell_type": "code",
   "execution_count": 3,
   "metadata": {},
   "outputs": [
    {
     "data": {
      "text/plain": [
       "0    247455\n",
       "1    179355\n",
       "2    151562\n",
       "3    123317\n",
       "4     93757\n",
       "dtype: int64"
      ]
     },
     "execution_count": 3,
     "metadata": {},
     "output_type": "execute_result"
    }
   ],
   "source": [
    "estados = pd.Series([247455, 179355, 151562, 123317, 93757])\n",
    "estados"
   ]
  },
  {
   "cell_type": "code",
   "execution_count": 4,
   "metadata": {},
   "outputs": [
    {
     "data": {
      "text/plain": [
       "array([247455, 179355, 151562, 123317,  93757], dtype=int64)"
      ]
     },
     "execution_count": 4,
     "metadata": {},
     "output_type": "execute_result"
    }
   ],
   "source": [
    "estados.values"
   ]
  },
  {
   "cell_type": "code",
   "execution_count": 5,
   "metadata": {},
   "outputs": [
    {
     "data": {
      "text/plain": [
       "RangeIndex(start=0, stop=5, step=1)"
      ]
     },
     "execution_count": 5,
     "metadata": {},
     "output_type": "execute_result"
    }
   ],
   "source": [
    "estados.index"
   ]
  },
  {
   "cell_type": "code",
   "execution_count": 6,
   "metadata": {},
   "outputs": [
    {
     "data": {
      "text/plain": [
       "247455"
      ]
     },
     "execution_count": 6,
     "metadata": {},
     "output_type": "execute_result"
    }
   ],
   "source": [
    "estados[0]"
   ]
  },
  {
   "cell_type": "code",
   "execution_count": 7,
   "metadata": {},
   "outputs": [
    {
     "data": {
      "text/plain": [
       "Chihuahua    247455\n",
       "Sonora       179355\n",
       "Coahuila     151562\n",
       "Durango      123317\n",
       "Oaxaca        93757\n",
       "dtype: int64"
      ]
     },
     "execution_count": 7,
     "metadata": {},
     "output_type": "execute_result"
    }
   ],
   "source": [
    "estados = pd.Series([247455, 179355, 151562, 123317, 93757],\n",
    "                   index=['Chihuahua', 'Sonora', 'Coahuila', 'Durango', 'Oaxaca'])\n",
    "estados"
   ]
  },
  {
   "cell_type": "code",
   "execution_count": 8,
   "metadata": {},
   "outputs": [
    {
     "data": {
      "text/plain": [
       "array([247455, 179355, 151562, 123317,  93757], dtype=int64)"
      ]
     },
     "execution_count": 8,
     "metadata": {},
     "output_type": "execute_result"
    }
   ],
   "source": [
    "estados.values"
   ]
  },
  {
   "cell_type": "code",
   "execution_count": 9,
   "metadata": {},
   "outputs": [
    {
     "data": {
      "text/plain": [
       "Index(['Chihuahua', 'Sonora', 'Coahuila', 'Durango', 'Oaxaca'], dtype='object')"
      ]
     },
     "execution_count": 9,
     "metadata": {},
     "output_type": "execute_result"
    }
   ],
   "source": [
    "estados.index"
   ]
  },
  {
   "cell_type": "code",
   "execution_count": 10,
   "metadata": {},
   "outputs": [
    {
     "data": {
      "text/plain": [
       "247455"
      ]
     },
     "execution_count": 10,
     "metadata": {},
     "output_type": "execute_result"
    }
   ],
   "source": [
    "estados[0]"
   ]
  },
  {
   "cell_type": "code",
   "execution_count": 11,
   "metadata": {},
   "outputs": [
    {
     "data": {
      "text/plain": [
       "247455"
      ]
     },
     "execution_count": 11,
     "metadata": {},
     "output_type": "execute_result"
    }
   ],
   "source": [
    "estados['Chihuahua']"
   ]
  },
  {
   "cell_type": "code",
   "execution_count": 12,
   "metadata": {},
   "outputs": [],
   "source": [
    "nombres = ['Chihuahua', 'Sonora', 'Coahuila', 'Durango', 'Oaxaca']\n",
    "area = [247455, 179355, 151562, 123317, 93757]\n",
    "poblacion = [3556574, 2850330, 2954915, 1754754,  3967889]\n",
    "densidad = [14, 16, 19, 14, 42]"
   ]
  },
  {
   "cell_type": "code",
   "execution_count": 13,
   "metadata": {},
   "outputs": [
    {
     "data": {
      "text/html": [
       "<div>\n",
       "<style scoped>\n",
       "    .dataframe tbody tr th:only-of-type {\n",
       "        vertical-align: middle;\n",
       "    }\n",
       "\n",
       "    .dataframe tbody tr th {\n",
       "        vertical-align: top;\n",
       "    }\n",
       "\n",
       "    .dataframe thead th {\n",
       "        text-align: right;\n",
       "    }\n",
       "</style>\n",
       "<table border=\"1\" class=\"dataframe\">\n",
       "  <thead>\n",
       "    <tr style=\"text-align: right;\">\n",
       "      <th></th>\n",
       "      <th>Area</th>\n",
       "      <th>Poblacion</th>\n",
       "      <th>Densidad</th>\n",
       "    </tr>\n",
       "  </thead>\n",
       "  <tbody>\n",
       "    <tr>\n",
       "      <th>Chihuahua</th>\n",
       "      <td>247455</td>\n",
       "      <td>3556574</td>\n",
       "      <td>14</td>\n",
       "    </tr>\n",
       "    <tr>\n",
       "      <th>Sonora</th>\n",
       "      <td>179355</td>\n",
       "      <td>2850330</td>\n",
       "      <td>16</td>\n",
       "    </tr>\n",
       "    <tr>\n",
       "      <th>Coahuila</th>\n",
       "      <td>151562</td>\n",
       "      <td>2954915</td>\n",
       "      <td>19</td>\n",
       "    </tr>\n",
       "    <tr>\n",
       "      <th>Durango</th>\n",
       "      <td>123317</td>\n",
       "      <td>1754754</td>\n",
       "      <td>14</td>\n",
       "    </tr>\n",
       "    <tr>\n",
       "      <th>Oaxaca</th>\n",
       "      <td>93757</td>\n",
       "      <td>3967889</td>\n",
       "      <td>42</td>\n",
       "    </tr>\n",
       "  </tbody>\n",
       "</table>\n",
       "</div>"
      ],
      "text/plain": [
       "             Area  Poblacion  Densidad\n",
       "Chihuahua  247455    3556574        14\n",
       "Sonora     179355    2850330        16\n",
       "Coahuila   151562    2954915        19\n",
       "Durango    123317    1754754        14\n",
       "Oaxaca      93757    3967889        42"
      ]
     },
     "execution_count": 13,
     "metadata": {},
     "output_type": "execute_result"
    }
   ],
   "source": [
    "estados = pd.DataFrame({'Area': area, 'Poblacion': poblacion, \n",
    "                       'Densidad': densidad}, index = nombres)\n",
    "estados"
   ]
  },
  {
   "cell_type": "markdown",
   "metadata": {},
   "source": [
    "# Buscar una columna completa del DF."
   ]
  },
  {
   "cell_type": "code",
   "execution_count": 14,
   "metadata": {},
   "outputs": [
    {
     "data": {
      "text/plain": [
       "Chihuahua    247455\n",
       "Sonora       179355\n",
       "Coahuila     151562\n",
       "Durango      123317\n",
       "Oaxaca        93757\n",
       "Name: Area, dtype: int64"
      ]
     },
     "execution_count": 14,
     "metadata": {},
     "output_type": "execute_result"
    }
   ],
   "source": [
    "# Para una columna específica que queramos ver\n",
    "estados['Area']"
   ]
  },
  {
   "cell_type": "markdown",
   "metadata": {},
   "source": [
    "# Buscar un renglón completo del DF por indice númerico.\n",
    "df.iloc"
   ]
  },
  {
   "cell_type": "code",
   "execution_count": 15,
   "metadata": {},
   "outputs": [
    {
     "data": {
      "text/plain": [
       "Area          247455\n",
       "Poblacion    3556574\n",
       "Densidad          14\n",
       "Name: Chihuahua, dtype: int64"
      ]
     },
     "execution_count": 15,
     "metadata": {},
     "output_type": "execute_result"
    }
   ],
   "source": [
    "# Para un renglón específico que nos interese ver\n",
    "estados.iloc[0]"
   ]
  },
  {
   "cell_type": "markdown",
   "metadata": {},
   "source": [
    "# Buscar un renglón completo por la etiqueta.\n",
    "df.loc"
   ]
  },
  {
   "cell_type": "code",
   "execution_count": 16,
   "metadata": {},
   "outputs": [
    {
     "data": {
      "text/plain": [
       "Area          247455\n",
       "Poblacion    3556574\n",
       "Densidad          14\n",
       "Name: Chihuahua, dtype: int64"
      ]
     },
     "execution_count": 16,
     "metadata": {},
     "output_type": "execute_result"
    }
   ],
   "source": [
    "# no se añade la i, solo loc porque estamos usando una etiqueta y no un índice.\n",
    "estados.loc['Chihuahua']"
   ]
  },
  {
   "cell_type": "markdown",
   "metadata": {},
   "source": [
    "# Agregar un renglón"
   ]
  },
  {
   "cell_type": "code",
   "execution_count": 17,
   "metadata": {},
   "outputs": [
    {
     "data": {
      "text/html": [
       "<div>\n",
       "<style scoped>\n",
       "    .dataframe tbody tr th:only-of-type {\n",
       "        vertical-align: middle;\n",
       "    }\n",
       "\n",
       "    .dataframe tbody tr th {\n",
       "        vertical-align: top;\n",
       "    }\n",
       "\n",
       "    .dataframe thead th {\n",
       "        text-align: right;\n",
       "    }\n",
       "</style>\n",
       "<table border=\"1\" class=\"dataframe\">\n",
       "  <thead>\n",
       "    <tr style=\"text-align: right;\">\n",
       "      <th></th>\n",
       "      <th>Area</th>\n",
       "      <th>Poblacion</th>\n",
       "      <th>Densidad</th>\n",
       "    </tr>\n",
       "  </thead>\n",
       "  <tbody>\n",
       "    <tr>\n",
       "      <th>Chihuahua</th>\n",
       "      <td>247455</td>\n",
       "      <td>3556574</td>\n",
       "      <td>14</td>\n",
       "    </tr>\n",
       "    <tr>\n",
       "      <th>Sonora</th>\n",
       "      <td>179355</td>\n",
       "      <td>2850330</td>\n",
       "      <td>16</td>\n",
       "    </tr>\n",
       "    <tr>\n",
       "      <th>Coahuila</th>\n",
       "      <td>151562</td>\n",
       "      <td>2954915</td>\n",
       "      <td>19</td>\n",
       "    </tr>\n",
       "    <tr>\n",
       "      <th>Durango</th>\n",
       "      <td>123317</td>\n",
       "      <td>1754754</td>\n",
       "      <td>14</td>\n",
       "    </tr>\n",
       "    <tr>\n",
       "      <th>Oaxaca</th>\n",
       "      <td>93757</td>\n",
       "      <td>3967889</td>\n",
       "      <td>42</td>\n",
       "    </tr>\n",
       "    <tr>\n",
       "      <th>Tamaulipas</th>\n",
       "      <td>80249</td>\n",
       "      <td>3441698</td>\n",
       "      <td>43</td>\n",
       "    </tr>\n",
       "  </tbody>\n",
       "</table>\n",
       "</div>"
      ],
      "text/plain": [
       "              Area  Poblacion  Densidad\n",
       "Chihuahua   247455    3556574        14\n",
       "Sonora      179355    2850330        16\n",
       "Coahuila    151562    2954915        19\n",
       "Durango     123317    1754754        14\n",
       "Oaxaca       93757    3967889        42\n",
       "Tamaulipas   80249    3441698        43"
      ]
     },
     "execution_count": 17,
     "metadata": {},
     "output_type": "execute_result"
    }
   ],
   "source": [
    "# A veces el orden de los valores del renglón puede estar mal. De momento se va a arreglar manualmente.\n",
    "estado = [80249, 3441698, 43]\n",
    "index = 'Tamaulipas'\n",
    "estados.loc[index] = estado\n",
    "estados"
   ]
  },
  {
   "cell_type": "code",
   "execution_count": 18,
   "metadata": {},
   "outputs": [
    {
     "data": {
      "text/html": [
       "<div>\n",
       "<style scoped>\n",
       "    .dataframe tbody tr th:only-of-type {\n",
       "        vertical-align: middle;\n",
       "    }\n",
       "\n",
       "    .dataframe tbody tr th {\n",
       "        vertical-align: top;\n",
       "    }\n",
       "\n",
       "    .dataframe thead th {\n",
       "        text-align: right;\n",
       "    }\n",
       "</style>\n",
       "<table border=\"1\" class=\"dataframe\">\n",
       "  <thead>\n",
       "    <tr style=\"text-align: right;\">\n",
       "      <th></th>\n",
       "      <th>Area</th>\n",
       "      <th>Poblacion</th>\n",
       "      <th>Densidad</th>\n",
       "    </tr>\n",
       "  </thead>\n",
       "  <tbody>\n",
       "    <tr>\n",
       "      <th>Chihuahua</th>\n",
       "      <td>247455</td>\n",
       "      <td>3556574</td>\n",
       "      <td>14</td>\n",
       "    </tr>\n",
       "    <tr>\n",
       "      <th>Sonora</th>\n",
       "      <td>179355</td>\n",
       "      <td>2850330</td>\n",
       "      <td>16</td>\n",
       "    </tr>\n",
       "    <tr>\n",
       "      <th>Coahuila</th>\n",
       "      <td>151562</td>\n",
       "      <td>2954915</td>\n",
       "      <td>19</td>\n",
       "    </tr>\n",
       "    <tr>\n",
       "      <th>Durango</th>\n",
       "      <td>123317</td>\n",
       "      <td>1754754</td>\n",
       "      <td>14</td>\n",
       "    </tr>\n",
       "    <tr>\n",
       "      <th>Oaxaca</th>\n",
       "      <td>93757</td>\n",
       "      <td>3967889</td>\n",
       "      <td>42</td>\n",
       "    </tr>\n",
       "    <tr>\n",
       "      <th>Tamaulipas</th>\n",
       "      <td>80249</td>\n",
       "      <td>3441698</td>\n",
       "      <td>43</td>\n",
       "    </tr>\n",
       "    <tr>\n",
       "      <th>Jalisco</th>\n",
       "      <td>78588</td>\n",
       "      <td>7844830</td>\n",
       "      <td>100</td>\n",
       "    </tr>\n",
       "  </tbody>\n",
       "</table>\n",
       "</div>"
      ],
      "text/plain": [
       "              Area  Poblacion  Densidad\n",
       "Chihuahua   247455    3556574        14\n",
       "Sonora      179355    2850330        16\n",
       "Coahuila    151562    2954915        19\n",
       "Durango     123317    1754754        14\n",
       "Oaxaca       93757    3967889        42\n",
       "Tamaulipas   80249    3441698        43\n",
       "Jalisco      78588    7844830       100"
      ]
     },
     "execution_count": 18,
     "metadata": {},
     "output_type": "execute_result"
    }
   ],
   "source": [
    "estado = [78588, 7844830, 100]\n",
    "index = 'Jalisco'\n",
    "estados.loc[index] = estado\n",
    "estados"
   ]
  },
  {
   "cell_type": "code",
   "execution_count": 19,
   "metadata": {},
   "outputs": [
    {
     "data": {
      "text/html": [
       "<div>\n",
       "<style scoped>\n",
       "    .dataframe tbody tr th:only-of-type {\n",
       "        vertical-align: middle;\n",
       "    }\n",
       "\n",
       "    .dataframe tbody tr th {\n",
       "        vertical-align: top;\n",
       "    }\n",
       "\n",
       "    .dataframe thead th {\n",
       "        text-align: right;\n",
       "    }\n",
       "</style>\n",
       "<table border=\"1\" class=\"dataframe\">\n",
       "  <thead>\n",
       "    <tr style=\"text-align: right;\">\n",
       "      <th></th>\n",
       "      <th>Area</th>\n",
       "      <th>Poblacion</th>\n",
       "      <th>Densidad</th>\n",
       "    </tr>\n",
       "  </thead>\n",
       "  <tbody>\n",
       "    <tr>\n",
       "      <th>Chihuahua</th>\n",
       "      <td>247455</td>\n",
       "      <td>3556574</td>\n",
       "      <td>14</td>\n",
       "    </tr>\n",
       "    <tr>\n",
       "      <th>Sonora</th>\n",
       "      <td>179355</td>\n",
       "      <td>2850330</td>\n",
       "      <td>16</td>\n",
       "    </tr>\n",
       "    <tr>\n",
       "      <th>Coahuila</th>\n",
       "      <td>151562</td>\n",
       "      <td>2954915</td>\n",
       "      <td>19</td>\n",
       "    </tr>\n",
       "    <tr>\n",
       "      <th>Durango</th>\n",
       "      <td>123317</td>\n",
       "      <td>1754754</td>\n",
       "      <td>14</td>\n",
       "    </tr>\n",
       "    <tr>\n",
       "      <th>Oaxaca</th>\n",
       "      <td>93757</td>\n",
       "      <td>3967889</td>\n",
       "      <td>42</td>\n",
       "    </tr>\n",
       "    <tr>\n",
       "      <th>Tamaulipas</th>\n",
       "      <td>80249</td>\n",
       "      <td>3441698</td>\n",
       "      <td>43</td>\n",
       "    </tr>\n",
       "    <tr>\n",
       "      <th>Jalisco</th>\n",
       "      <td>78588</td>\n",
       "      <td>7844830</td>\n",
       "      <td>100</td>\n",
       "    </tr>\n",
       "    <tr>\n",
       "      <th>Zacatecas</th>\n",
       "      <td>75284</td>\n",
       "      <td>1579209</td>\n",
       "      <td>21</td>\n",
       "    </tr>\n",
       "  </tbody>\n",
       "</table>\n",
       "</div>"
      ],
      "text/plain": [
       "              Area  Poblacion  Densidad\n",
       "Chihuahua   247455    3556574        14\n",
       "Sonora      179355    2850330        16\n",
       "Coahuila    151562    2954915        19\n",
       "Durango     123317    1754754        14\n",
       "Oaxaca       93757    3967889        42\n",
       "Tamaulipas   80249    3441698        43\n",
       "Jalisco      78588    7844830       100\n",
       "Zacatecas    75284    1579209        21"
      ]
     },
     "execution_count": 19,
     "metadata": {},
     "output_type": "execute_result"
    }
   ],
   "source": [
    "estado = [75284, 1579209, 21]\n",
    "index = 'Zacatecas'\n",
    "estados.loc[index] = estado\n",
    "estados"
   ]
  },
  {
   "cell_type": "code",
   "execution_count": 20,
   "metadata": {},
   "outputs": [
    {
     "data": {
      "text/html": [
       "<div>\n",
       "<style scoped>\n",
       "    .dataframe tbody tr th:only-of-type {\n",
       "        vertical-align: middle;\n",
       "    }\n",
       "\n",
       "    .dataframe tbody tr th {\n",
       "        vertical-align: top;\n",
       "    }\n",
       "\n",
       "    .dataframe thead th {\n",
       "        text-align: right;\n",
       "    }\n",
       "</style>\n",
       "<table border=\"1\" class=\"dataframe\">\n",
       "  <thead>\n",
       "    <tr style=\"text-align: right;\">\n",
       "      <th></th>\n",
       "      <th>Area</th>\n",
       "      <th>Poblacion</th>\n",
       "      <th>Densidad</th>\n",
       "    </tr>\n",
       "  </thead>\n",
       "  <tbody>\n",
       "    <tr>\n",
       "      <th>Chihuahua</th>\n",
       "      <td>247455</td>\n",
       "      <td>3556574</td>\n",
       "      <td>14</td>\n",
       "    </tr>\n",
       "    <tr>\n",
       "      <th>Sonora</th>\n",
       "      <td>179355</td>\n",
       "      <td>2850330</td>\n",
       "      <td>16</td>\n",
       "    </tr>\n",
       "    <tr>\n",
       "      <th>Coahuila</th>\n",
       "      <td>151562</td>\n",
       "      <td>2954915</td>\n",
       "      <td>19</td>\n",
       "    </tr>\n",
       "    <tr>\n",
       "      <th>Durango</th>\n",
       "      <td>123317</td>\n",
       "      <td>1754754</td>\n",
       "      <td>14</td>\n",
       "    </tr>\n",
       "    <tr>\n",
       "      <th>Oaxaca</th>\n",
       "      <td>93757</td>\n",
       "      <td>3967889</td>\n",
       "      <td>42</td>\n",
       "    </tr>\n",
       "    <tr>\n",
       "      <th>Tamaulipas</th>\n",
       "      <td>80249</td>\n",
       "      <td>3441698</td>\n",
       "      <td>43</td>\n",
       "    </tr>\n",
       "    <tr>\n",
       "      <th>Jalisco</th>\n",
       "      <td>78588</td>\n",
       "      <td>7844830</td>\n",
       "      <td>100</td>\n",
       "    </tr>\n",
       "    <tr>\n",
       "      <th>Zacatecas</th>\n",
       "      <td>75284</td>\n",
       "      <td>1579209</td>\n",
       "      <td>21</td>\n",
       "    </tr>\n",
       "    <tr>\n",
       "      <th>Baja California Sur</th>\n",
       "      <td>73909</td>\n",
       "      <td>712029</td>\n",
       "      <td>10</td>\n",
       "    </tr>\n",
       "  </tbody>\n",
       "</table>\n",
       "</div>"
      ],
      "text/plain": [
       "                       Area  Poblacion  Densidad\n",
       "Chihuahua            247455    3556574        14\n",
       "Sonora               179355    2850330        16\n",
       "Coahuila             151562    2954915        19\n",
       "Durango              123317    1754754        14\n",
       "Oaxaca                93757    3967889        42\n",
       "Tamaulipas            80249    3441698        43\n",
       "Jalisco               78588    7844830       100\n",
       "Zacatecas             75284    1579209        21\n",
       "Baja California Sur   73909     712029        10"
      ]
     },
     "execution_count": 20,
     "metadata": {},
     "output_type": "execute_result"
    }
   ],
   "source": [
    "estado = [73909, 712029, 10]\n",
    "index = 'Baja California Sur'\n",
    "estados.loc[index] = estado\n",
    "estados"
   ]
  },
  {
   "cell_type": "code",
   "execution_count": 21,
   "metadata": {},
   "outputs": [
    {
     "data": {
      "text/html": [
       "<div>\n",
       "<style scoped>\n",
       "    .dataframe tbody tr th:only-of-type {\n",
       "        vertical-align: middle;\n",
       "    }\n",
       "\n",
       "    .dataframe tbody tr th {\n",
       "        vertical-align: top;\n",
       "    }\n",
       "\n",
       "    .dataframe thead th {\n",
       "        text-align: right;\n",
       "    }\n",
       "</style>\n",
       "<table border=\"1\" class=\"dataframe\">\n",
       "  <thead>\n",
       "    <tr style=\"text-align: right;\">\n",
       "      <th></th>\n",
       "      <th>Area</th>\n",
       "      <th>Poblacion</th>\n",
       "      <th>Densidad</th>\n",
       "    </tr>\n",
       "  </thead>\n",
       "  <tbody>\n",
       "    <tr>\n",
       "      <th>Chihuahua</th>\n",
       "      <td>247455</td>\n",
       "      <td>3556574</td>\n",
       "      <td>14</td>\n",
       "    </tr>\n",
       "    <tr>\n",
       "      <th>Sonora</th>\n",
       "      <td>179355</td>\n",
       "      <td>2850330</td>\n",
       "      <td>16</td>\n",
       "    </tr>\n",
       "    <tr>\n",
       "      <th>Coahuila</th>\n",
       "      <td>151562</td>\n",
       "      <td>2954915</td>\n",
       "      <td>19</td>\n",
       "    </tr>\n",
       "    <tr>\n",
       "      <th>Durango</th>\n",
       "      <td>123317</td>\n",
       "      <td>1754754</td>\n",
       "      <td>14</td>\n",
       "    </tr>\n",
       "    <tr>\n",
       "      <th>Oaxaca</th>\n",
       "      <td>93757</td>\n",
       "      <td>3967889</td>\n",
       "      <td>42</td>\n",
       "    </tr>\n",
       "    <tr>\n",
       "      <th>Tamaulipas</th>\n",
       "      <td>80249</td>\n",
       "      <td>3441698</td>\n",
       "      <td>43</td>\n",
       "    </tr>\n",
       "    <tr>\n",
       "      <th>Jalisco</th>\n",
       "      <td>78588</td>\n",
       "      <td>7844830</td>\n",
       "      <td>100</td>\n",
       "    </tr>\n",
       "    <tr>\n",
       "      <th>Zacatecas</th>\n",
       "      <td>75284</td>\n",
       "      <td>1579209</td>\n",
       "      <td>21</td>\n",
       "    </tr>\n",
       "    <tr>\n",
       "      <th>Baja California Sur</th>\n",
       "      <td>73909</td>\n",
       "      <td>712029</td>\n",
       "      <td>10</td>\n",
       "    </tr>\n",
       "    <tr>\n",
       "      <th>Chiapas</th>\n",
       "      <td>73311</td>\n",
       "      <td>5217908</td>\n",
       "      <td>71</td>\n",
       "    </tr>\n",
       "  </tbody>\n",
       "</table>\n",
       "</div>"
      ],
      "text/plain": [
       "                       Area  Poblacion  Densidad\n",
       "Chihuahua            247455    3556574        14\n",
       "Sonora               179355    2850330        16\n",
       "Coahuila             151562    2954915        19\n",
       "Durango              123317    1754754        14\n",
       "Oaxaca                93757    3967889        42\n",
       "Tamaulipas            80249    3441698        43\n",
       "Jalisco               78588    7844830       100\n",
       "Zacatecas             75284    1579209        21\n",
       "Baja California Sur   73909     712029        10\n",
       "Chiapas               73311    5217908        71"
      ]
     },
     "execution_count": 21,
     "metadata": {},
     "output_type": "execute_result"
    }
   ],
   "source": [
    "estado = [73311, 5217908, 71]\n",
    "index = 'Chiapas'\n",
    "estados.loc[index] = estado\n",
    "estados"
   ]
  },
  {
   "cell_type": "markdown",
   "metadata": {},
   "source": [
    "# Realizar operaciones con columnas."
   ]
  },
  {
   "cell_type": "code",
   "execution_count": 22,
   "metadata": {},
   "outputs": [
    {
     "data": {
      "text/html": [
       "<div>\n",
       "<style scoped>\n",
       "    .dataframe tbody tr th:only-of-type {\n",
       "        vertical-align: middle;\n",
       "    }\n",
       "\n",
       "    .dataframe tbody tr th {\n",
       "        vertical-align: top;\n",
       "    }\n",
       "\n",
       "    .dataframe thead th {\n",
       "        text-align: right;\n",
       "    }\n",
       "</style>\n",
       "<table border=\"1\" class=\"dataframe\">\n",
       "  <thead>\n",
       "    <tr style=\"text-align: right;\">\n",
       "      <th></th>\n",
       "      <th>Area</th>\n",
       "      <th>Poblacion</th>\n",
       "      <th>Densidad</th>\n",
       "      <th>Densidad Calculada</th>\n",
       "    </tr>\n",
       "  </thead>\n",
       "  <tbody>\n",
       "    <tr>\n",
       "      <th>Chihuahua</th>\n",
       "      <td>247455</td>\n",
       "      <td>3556574</td>\n",
       "      <td>14</td>\n",
       "      <td>14.372609</td>\n",
       "    </tr>\n",
       "    <tr>\n",
       "      <th>Sonora</th>\n",
       "      <td>179355</td>\n",
       "      <td>2850330</td>\n",
       "      <td>16</td>\n",
       "      <td>15.892113</td>\n",
       "    </tr>\n",
       "    <tr>\n",
       "      <th>Coahuila</th>\n",
       "      <td>151562</td>\n",
       "      <td>2954915</td>\n",
       "      <td>19</td>\n",
       "      <td>19.496411</td>\n",
       "    </tr>\n",
       "    <tr>\n",
       "      <th>Durango</th>\n",
       "      <td>123317</td>\n",
       "      <td>1754754</td>\n",
       "      <td>14</td>\n",
       "      <td>14.229620</td>\n",
       "    </tr>\n",
       "    <tr>\n",
       "      <th>Oaxaca</th>\n",
       "      <td>93757</td>\n",
       "      <td>3967889</td>\n",
       "      <td>42</td>\n",
       "      <td>42.320989</td>\n",
       "    </tr>\n",
       "    <tr>\n",
       "      <th>Tamaulipas</th>\n",
       "      <td>80249</td>\n",
       "      <td>3441698</td>\n",
       "      <td>43</td>\n",
       "      <td>42.887737</td>\n",
       "    </tr>\n",
       "    <tr>\n",
       "      <th>Jalisco</th>\n",
       "      <td>78588</td>\n",
       "      <td>7844830</td>\n",
       "      <td>100</td>\n",
       "      <td>99.822237</td>\n",
       "    </tr>\n",
       "    <tr>\n",
       "      <th>Zacatecas</th>\n",
       "      <td>75284</td>\n",
       "      <td>1579209</td>\n",
       "      <td>21</td>\n",
       "      <td>20.976688</td>\n",
       "    </tr>\n",
       "    <tr>\n",
       "      <th>Baja California Sur</th>\n",
       "      <td>73909</td>\n",
       "      <td>712029</td>\n",
       "      <td>10</td>\n",
       "      <td>9.633861</td>\n",
       "    </tr>\n",
       "    <tr>\n",
       "      <th>Chiapas</th>\n",
       "      <td>73311</td>\n",
       "      <td>5217908</td>\n",
       "      <td>71</td>\n",
       "      <td>71.174967</td>\n",
       "    </tr>\n",
       "  </tbody>\n",
       "</table>\n",
       "</div>"
      ],
      "text/plain": [
       "                       Area  Poblacion  Densidad  Densidad Calculada\n",
       "Chihuahua            247455    3556574        14           14.372609\n",
       "Sonora               179355    2850330        16           15.892113\n",
       "Coahuila             151562    2954915        19           19.496411\n",
       "Durango              123317    1754754        14           14.229620\n",
       "Oaxaca                93757    3967889        42           42.320989\n",
       "Tamaulipas            80249    3441698        43           42.887737\n",
       "Jalisco               78588    7844830       100           99.822237\n",
       "Zacatecas             75284    1579209        21           20.976688\n",
       "Baja California Sur   73909     712029        10            9.633861\n",
       "Chiapas               73311    5217908        71           71.174967"
      ]
     },
     "execution_count": 22,
     "metadata": {},
     "output_type": "execute_result"
    }
   ],
   "source": [
    "# Va a buscar la columna que tenga el nombre entre [], si la encuentra le cambiará los valores, si no, la agregará.\n",
    "estados['Densidad Calculada'] = estados['Poblacion'] / estados['Area']\n",
    "estados"
   ]
  },
  {
   "cell_type": "code",
   "execution_count": 23,
   "metadata": {},
   "outputs": [
    {
     "data": {
      "text/html": [
       "<div>\n",
       "<style scoped>\n",
       "    .dataframe tbody tr th:only-of-type {\n",
       "        vertical-align: middle;\n",
       "    }\n",
       "\n",
       "    .dataframe tbody tr th {\n",
       "        vertical-align: top;\n",
       "    }\n",
       "\n",
       "    .dataframe thead th {\n",
       "        text-align: right;\n",
       "    }\n",
       "</style>\n",
       "<table border=\"1\" class=\"dataframe\">\n",
       "  <thead>\n",
       "    <tr style=\"text-align: right;\">\n",
       "      <th></th>\n",
       "      <th>Area</th>\n",
       "      <th>Poblacion</th>\n",
       "      <th>Densidad</th>\n",
       "      <th>Densidad Calculada</th>\n",
       "      <th>Error Aprox</th>\n",
       "    </tr>\n",
       "  </thead>\n",
       "  <tbody>\n",
       "    <tr>\n",
       "      <th>Chihuahua</th>\n",
       "      <td>247455</td>\n",
       "      <td>3556574</td>\n",
       "      <td>14</td>\n",
       "      <td>14.372609</td>\n",
       "      <td>2.592495</td>\n",
       "    </tr>\n",
       "    <tr>\n",
       "      <th>Sonora</th>\n",
       "      <td>179355</td>\n",
       "      <td>2850330</td>\n",
       "      <td>16</td>\n",
       "      <td>15.892113</td>\n",
       "      <td>0.678869</td>\n",
       "    </tr>\n",
       "    <tr>\n",
       "      <th>Coahuila</th>\n",
       "      <td>151562</td>\n",
       "      <td>2954915</td>\n",
       "      <td>19</td>\n",
       "      <td>19.496411</td>\n",
       "      <td>2.546165</td>\n",
       "    </tr>\n",
       "    <tr>\n",
       "      <th>Durango</th>\n",
       "      <td>123317</td>\n",
       "      <td>1754754</td>\n",
       "      <td>14</td>\n",
       "      <td>14.229620</td>\n",
       "      <td>1.613673</td>\n",
       "    </tr>\n",
       "    <tr>\n",
       "      <th>Oaxaca</th>\n",
       "      <td>93757</td>\n",
       "      <td>3967889</td>\n",
       "      <td>42</td>\n",
       "      <td>42.320989</td>\n",
       "      <td>0.758464</td>\n",
       "    </tr>\n",
       "    <tr>\n",
       "      <th>Tamaulipas</th>\n",
       "      <td>80249</td>\n",
       "      <td>3441698</td>\n",
       "      <td>43</td>\n",
       "      <td>42.887737</td>\n",
       "      <td>0.261760</td>\n",
       "    </tr>\n",
       "    <tr>\n",
       "      <th>Jalisco</th>\n",
       "      <td>78588</td>\n",
       "      <td>7844830</td>\n",
       "      <td>100</td>\n",
       "      <td>99.822237</td>\n",
       "      <td>0.178079</td>\n",
       "    </tr>\n",
       "    <tr>\n",
       "      <th>Zacatecas</th>\n",
       "      <td>75284</td>\n",
       "      <td>1579209</td>\n",
       "      <td>21</td>\n",
       "      <td>20.976688</td>\n",
       "      <td>0.111132</td>\n",
       "    </tr>\n",
       "    <tr>\n",
       "      <th>Baja California Sur</th>\n",
       "      <td>73909</td>\n",
       "      <td>712029</td>\n",
       "      <td>10</td>\n",
       "      <td>9.633861</td>\n",
       "      <td>3.800547</td>\n",
       "    </tr>\n",
       "    <tr>\n",
       "      <th>Chiapas</th>\n",
       "      <td>73311</td>\n",
       "      <td>5217908</td>\n",
       "      <td>71</td>\n",
       "      <td>71.174967</td>\n",
       "      <td>0.245826</td>\n",
       "    </tr>\n",
       "  </tbody>\n",
       "</table>\n",
       "</div>"
      ],
      "text/plain": [
       "                       Area  Poblacion  Densidad  Densidad Calculada  \\\n",
       "Chihuahua            247455    3556574        14           14.372609   \n",
       "Sonora               179355    2850330        16           15.892113   \n",
       "Coahuila             151562    2954915        19           19.496411   \n",
       "Durango              123317    1754754        14           14.229620   \n",
       "Oaxaca                93757    3967889        42           42.320989   \n",
       "Tamaulipas            80249    3441698        43           42.887737   \n",
       "Jalisco               78588    7844830       100           99.822237   \n",
       "Zacatecas             75284    1579209        21           20.976688   \n",
       "Baja California Sur   73909     712029        10            9.633861   \n",
       "Chiapas               73311    5217908        71           71.174967   \n",
       "\n",
       "                     Error Aprox  \n",
       "Chihuahua               2.592495  \n",
       "Sonora                  0.678869  \n",
       "Coahuila                2.546165  \n",
       "Durango                 1.613673  \n",
       "Oaxaca                  0.758464  \n",
       "Tamaulipas              0.261760  \n",
       "Jalisco                 0.178079  \n",
       "Zacatecas               0.111132  \n",
       "Baja California Sur     3.800547  \n",
       "Chiapas                 0.245826  "
      ]
     },
     "execution_count": 23,
     "metadata": {},
     "output_type": "execute_result"
    }
   ],
   "source": [
    "estados['Error Aprox'] = abs(estados['Densidad Calculada'] - estados['Densidad']) / estados['Densidad Calculada'] * 100\n",
    "estados"
   ]
  },
  {
   "cell_type": "markdown",
   "metadata": {},
   "source": [
    "# Ordenar columnas."
   ]
  },
  {
   "cell_type": "code",
   "execution_count": 24,
   "metadata": {},
   "outputs": [
    {
     "data": {
      "text/plain": [
       "['Poblacion', 'Area', 'Densidad', 'Densidad Calculada', 'Error Aprox']"
      ]
     },
     "execution_count": 24,
     "metadata": {},
     "output_type": "execute_result"
    }
   ],
   "source": [
    "cols = ['Poblacion', 'Area', 'Densidad', 'Densidad Calculada', 'Error Aprox']\n",
    "cols"
   ]
  },
  {
   "cell_type": "code",
   "execution_count": 28,
   "metadata": {},
   "outputs": [
    {
     "data": {
      "text/html": [
       "<div>\n",
       "<style scoped>\n",
       "    .dataframe tbody tr th:only-of-type {\n",
       "        vertical-align: middle;\n",
       "    }\n",
       "\n",
       "    .dataframe tbody tr th {\n",
       "        vertical-align: top;\n",
       "    }\n",
       "\n",
       "    .dataframe thead th {\n",
       "        text-align: right;\n",
       "    }\n",
       "</style>\n",
       "<table border=\"1\" class=\"dataframe\">\n",
       "  <thead>\n",
       "    <tr style=\"text-align: right;\">\n",
       "      <th></th>\n",
       "      <th>Poblacion</th>\n",
       "      <th>Area</th>\n",
       "      <th>Densidad</th>\n",
       "      <th>Densidad Calculada</th>\n",
       "      <th>Error Aprox</th>\n",
       "    </tr>\n",
       "  </thead>\n",
       "  <tbody>\n",
       "    <tr>\n",
       "      <th>Chihuahua</th>\n",
       "      <td>3556574</td>\n",
       "      <td>247455</td>\n",
       "      <td>14</td>\n",
       "      <td>14.372609</td>\n",
       "      <td>2.592495</td>\n",
       "    </tr>\n",
       "    <tr>\n",
       "      <th>Sonora</th>\n",
       "      <td>2850330</td>\n",
       "      <td>179355</td>\n",
       "      <td>16</td>\n",
       "      <td>15.892113</td>\n",
       "      <td>0.678869</td>\n",
       "    </tr>\n",
       "    <tr>\n",
       "      <th>Coahuila</th>\n",
       "      <td>2954915</td>\n",
       "      <td>151562</td>\n",
       "      <td>19</td>\n",
       "      <td>19.496411</td>\n",
       "      <td>2.546165</td>\n",
       "    </tr>\n",
       "    <tr>\n",
       "      <th>Durango</th>\n",
       "      <td>1754754</td>\n",
       "      <td>123317</td>\n",
       "      <td>14</td>\n",
       "      <td>14.229620</td>\n",
       "      <td>1.613673</td>\n",
       "    </tr>\n",
       "    <tr>\n",
       "      <th>Oaxaca</th>\n",
       "      <td>3967889</td>\n",
       "      <td>93757</td>\n",
       "      <td>42</td>\n",
       "      <td>42.320989</td>\n",
       "      <td>0.758464</td>\n",
       "    </tr>\n",
       "    <tr>\n",
       "      <th>Tamaulipas</th>\n",
       "      <td>3441698</td>\n",
       "      <td>80249</td>\n",
       "      <td>43</td>\n",
       "      <td>42.887737</td>\n",
       "      <td>0.261760</td>\n",
       "    </tr>\n",
       "    <tr>\n",
       "      <th>Jalisco</th>\n",
       "      <td>7844830</td>\n",
       "      <td>78588</td>\n",
       "      <td>100</td>\n",
       "      <td>99.822237</td>\n",
       "      <td>0.178079</td>\n",
       "    </tr>\n",
       "    <tr>\n",
       "      <th>Zacatecas</th>\n",
       "      <td>1579209</td>\n",
       "      <td>75284</td>\n",
       "      <td>21</td>\n",
       "      <td>20.976688</td>\n",
       "      <td>0.111132</td>\n",
       "    </tr>\n",
       "    <tr>\n",
       "      <th>Baja California Sur</th>\n",
       "      <td>712029</td>\n",
       "      <td>73909</td>\n",
       "      <td>10</td>\n",
       "      <td>9.633861</td>\n",
       "      <td>3.800547</td>\n",
       "    </tr>\n",
       "    <tr>\n",
       "      <th>Chiapas</th>\n",
       "      <td>5217908</td>\n",
       "      <td>73311</td>\n",
       "      <td>71</td>\n",
       "      <td>71.174967</td>\n",
       "      <td>0.245826</td>\n",
       "    </tr>\n",
       "  </tbody>\n",
       "</table>\n",
       "</div>"
      ],
      "text/plain": [
       "                     Poblacion    Area  Densidad  Densidad Calculada  \\\n",
       "Chihuahua              3556574  247455        14           14.372609   \n",
       "Sonora                 2850330  179355        16           15.892113   \n",
       "Coahuila               2954915  151562        19           19.496411   \n",
       "Durango                1754754  123317        14           14.229620   \n",
       "Oaxaca                 3967889   93757        42           42.320989   \n",
       "Tamaulipas             3441698   80249        43           42.887737   \n",
       "Jalisco                7844830   78588       100           99.822237   \n",
       "Zacatecas              1579209   75284        21           20.976688   \n",
       "Baja California Sur     712029   73909        10            9.633861   \n",
       "Chiapas                5217908   73311        71           71.174967   \n",
       "\n",
       "                     Error Aprox  \n",
       "Chihuahua               2.592495  \n",
       "Sonora                  0.678869  \n",
       "Coahuila                2.546165  \n",
       "Durango                 1.613673  \n",
       "Oaxaca                  0.758464  \n",
       "Tamaulipas              0.261760  \n",
       "Jalisco                 0.178079  \n",
       "Zacatecas               0.111132  \n",
       "Baja California Sur     3.800547  \n",
       "Chiapas                 0.245826  "
      ]
     },
     "execution_count": 28,
     "metadata": {},
     "output_type": "execute_result"
    }
   ],
   "source": [
    "estados = estados.loc[:, cols]\n",
    "estados"
   ]
  },
  {
   "cell_type": "markdown",
   "metadata": {},
   "source": [
    "# Función describe."
   ]
  },
  {
   "cell_type": "code",
   "execution_count": 29,
   "metadata": {},
   "outputs": [
    {
     "data": {
      "text/html": [
       "<div>\n",
       "<style scoped>\n",
       "    .dataframe tbody tr th:only-of-type {\n",
       "        vertical-align: middle;\n",
       "    }\n",
       "\n",
       "    .dataframe tbody tr th {\n",
       "        vertical-align: top;\n",
       "    }\n",
       "\n",
       "    .dataframe thead th {\n",
       "        text-align: right;\n",
       "    }\n",
       "</style>\n",
       "<table border=\"1\" class=\"dataframe\">\n",
       "  <thead>\n",
       "    <tr style=\"text-align: right;\">\n",
       "      <th></th>\n",
       "      <th>Poblacion</th>\n",
       "      <th>Area</th>\n",
       "      <th>Densidad</th>\n",
       "      <th>Densidad Calculada</th>\n",
       "      <th>Error Aprox</th>\n",
       "    </tr>\n",
       "  </thead>\n",
       "  <tbody>\n",
       "    <tr>\n",
       "      <th>count</th>\n",
       "      <td>1.000000e+01</td>\n",
       "      <td>10.000000</td>\n",
       "      <td>10.0000</td>\n",
       "      <td>10.000000</td>\n",
       "      <td>10.000000</td>\n",
       "    </tr>\n",
       "    <tr>\n",
       "      <th>mean</th>\n",
       "      <td>3.388014e+06</td>\n",
       "      <td>117678.700000</td>\n",
       "      <td>35.0000</td>\n",
       "      <td>35.080723</td>\n",
       "      <td>1.278701</td>\n",
       "    </tr>\n",
       "    <tr>\n",
       "      <th>std</th>\n",
       "      <td>2.031862e+06</td>\n",
       "      <td>58697.553894</td>\n",
       "      <td>29.7284</td>\n",
       "      <td>29.681202</td>\n",
       "      <td>1.295739</td>\n",
       "    </tr>\n",
       "    <tr>\n",
       "      <th>min</th>\n",
       "      <td>7.120290e+05</td>\n",
       "      <td>73311.000000</td>\n",
       "      <td>10.0000</td>\n",
       "      <td>9.633861</td>\n",
       "      <td>0.111132</td>\n",
       "    </tr>\n",
       "    <tr>\n",
       "      <th>25%</th>\n",
       "      <td>2.028648e+06</td>\n",
       "      <td>76110.000000</td>\n",
       "      <td>14.5000</td>\n",
       "      <td>14.752485</td>\n",
       "      <td>0.249810</td>\n",
       "    </tr>\n",
       "    <tr>\n",
       "      <th>50%</th>\n",
       "      <td>3.198306e+06</td>\n",
       "      <td>87003.000000</td>\n",
       "      <td>20.0000</td>\n",
       "      <td>20.236549</td>\n",
       "      <td>0.718666</td>\n",
       "    </tr>\n",
       "    <tr>\n",
       "      <th>75%</th>\n",
       "      <td>3.865060e+06</td>\n",
       "      <td>144500.750000</td>\n",
       "      <td>42.7500</td>\n",
       "      <td>42.746050</td>\n",
       "      <td>2.313042</td>\n",
       "    </tr>\n",
       "    <tr>\n",
       "      <th>max</th>\n",
       "      <td>7.844830e+06</td>\n",
       "      <td>247455.000000</td>\n",
       "      <td>100.0000</td>\n",
       "      <td>99.822237</td>\n",
       "      <td>3.800547</td>\n",
       "    </tr>\n",
       "  </tbody>\n",
       "</table>\n",
       "</div>"
      ],
      "text/plain": [
       "          Poblacion           Area  Densidad  Densidad Calculada  Error Aprox\n",
       "count  1.000000e+01      10.000000   10.0000           10.000000    10.000000\n",
       "mean   3.388014e+06  117678.700000   35.0000           35.080723     1.278701\n",
       "std    2.031862e+06   58697.553894   29.7284           29.681202     1.295739\n",
       "min    7.120290e+05   73311.000000   10.0000            9.633861     0.111132\n",
       "25%    2.028648e+06   76110.000000   14.5000           14.752485     0.249810\n",
       "50%    3.198306e+06   87003.000000   20.0000           20.236549     0.718666\n",
       "75%    3.865060e+06  144500.750000   42.7500           42.746050     2.313042\n",
       "max    7.844830e+06  247455.000000  100.0000           99.822237     3.800547"
      ]
     },
     "execution_count": 29,
     "metadata": {},
     "output_type": "execute_result"
    }
   ],
   "source": [
    "estados.describe()"
   ]
  },
  {
   "cell_type": "markdown",
   "metadata": {},
   "source": [
    "# Graficar columnas de forma sencilla."
   ]
  },
  {
   "cell_type": "code",
   "execution_count": 30,
   "metadata": {},
   "outputs": [],
   "source": [
    "import matplotlib.pyplot as plt\n",
    "%matplotlib inline"
   ]
  },
  {
   "cell_type": "code",
   "execution_count": 31,
   "metadata": {},
   "outputs": [
    {
     "data": {
      "image/png": "[encoded data removed]",
      "text/plain": [
       "<Figure size 432x288 with 1 Axes>"
      ]
     },
     "metadata": {
      "needs_background": "light"
     },
     "output_type": "display_data"
    }
   ],
   "source": [
    "# xticks(rotation='vertical') le da la instrucción de que las etiquetas del eje x sean verticales para que quepan bien. \n",
    "fig = plt.figure()\n",
    "plt.bar(estados.index, estados['Poblacion'])\n",
    "plt.xticks(rotation='vertical')\n",
    "plt.show()"
   ]
  },
  {
   "cell_type": "code",
   "execution_count": 32,
   "metadata": {},
   "outputs": [
    {
     "data": {
      "image/png": "[encoded data removed]",
      "text/plain": [
       "<Figure size 432x288 with 1 Axes>"
      ]
     },
     "metadata": {
      "needs_background": "light"
     },
     "output_type": "display_data"
    }
   ],
   "source": [
    "fig = plt.figure()\n",
    "plt.bar(estados.index, estados['Area'])\n",
    "plt.xticks(rotation='vertical')\n",
    "plt.show()"
   ]
  },
  {
   "cell_type": "code",
   "execution_count": 33,
   "metadata": {},
   "outputs": [
    {
     "data": {
      "image/png": "[encoded data removed]",
      "text/plain": [
       "<Figure size 432x288 with 1 Axes>"
      ]
     },
     "metadata": {
      "needs_background": "light"
     },
     "output_type": "display_data"
    }
   ],
   "source": [
    "fig = plt.figure()\n",
    "plt.boxplot(estados['Densidad'])\n",
    "plt.show()"
   ]
  },
  {
   "cell_type": "code",
   "execution_count": null,
   "metadata": {},
   "outputs": [],
   "source": []
  }
 ],
 "metadata": {
  "kernelspec": {
   "display_name": "Python 3",
   "language": "python",
   "name": "python3"
  },
  "language_info": {
   "codemirror_mode": {
    "name": "ipython",
    "version": 3
   },
   "file_extension": ".py",
   "mimetype": "text/x-python",
   "name": "python",
   "nbconvert_exporter": "python",
   "pygments_lexer": "ipython3",
   "version": "3.8.8"
  }
 },
 "nbformat": 4,
 "nbformat_minor": 2
}
