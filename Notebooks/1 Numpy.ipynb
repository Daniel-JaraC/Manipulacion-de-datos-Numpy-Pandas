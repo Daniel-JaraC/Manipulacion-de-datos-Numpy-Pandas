{
 "cells": [
  {
   "cell_type": "markdown",
   "metadata": {},
   "source": [
    "# Importando la paquetería.\n",
    "https://numpy.org/"
   ]
  },
  {
   "cell_type": "code",
   "execution_count": 1,
   "metadata": {},
   "outputs": [],
   "source": [
    "import numpy as np"
   ]
  },
  {
   "cell_type": "markdown",
   "metadata": {},
   "source": [
    "# ¿Cómo buscar ayuda desde la libreta de Jupyter?\n",
    "- <b>Opción 1</b>: Escribir <b>np</b> luego escribir un punto y por último presionar la tecla \"<b>TAB</b>\" para mostrar diferentes opciones de autocompletado.\n",
    "- <b>Opción 2</b>: Buscar la documentación incluida con la función \"<b>np?</b>\""
   ]
  },
  {
   "cell_type": "code",
   "execution_count": 2,
   "metadata": {},
   "outputs": [],
   "source": [
    "#np?"
   ]
  },
  {
   "cell_type": "markdown",
   "metadata": {},
   "source": [
    "# Creando arreglos de números con Numpy."
   ]
  },
  {
   "cell_type": "markdown",
   "metadata": {},
   "source": [
    "### Arreglos llenos de ceros."
   ]
  },
  {
   "cell_type": "code",
   "execution_count": 3,
   "metadata": {},
   "outputs": [
    {
     "name": "stdout",
     "output_type": "stream",
     "text": [
      "[0 0 0 0 0 0 0 0 0 0]\n"
     ]
    }
   ],
   "source": [
    "arreglo = np.zeros(10, dtype = int)\n",
    "print(arreglo)"
   ]
  },
  {
   "cell_type": "code",
   "execution_count": 4,
   "metadata": {},
   "outputs": [
    {
     "name": "stdout",
     "output_type": "stream",
     "text": [
      "[False False False False False False False False False False]\n"
     ]
    }
   ],
   "source": [
    "arreglo = np.zeros(10, dtype = bool)\n",
    "print(arreglo)"
   ]
  },
  {
   "cell_type": "code",
   "execution_count": 5,
   "metadata": {},
   "outputs": [
    {
     "name": "stdout",
     "output_type": "stream",
     "text": [
      "[0. 0. 0. 0. 0. 0. 0. 0. 0. 0.]\n"
     ]
    }
   ],
   "source": [
    "arreglo = np.zeros(10, dtype = float)\n",
    "print(arreglo)"
   ]
  },
  {
   "cell_type": "markdown",
   "metadata": {},
   "source": [
    "### Arreglos llenos de unos."
   ]
  },
  {
   "cell_type": "code",
   "execution_count": 6,
   "metadata": {},
   "outputs": [
    {
     "name": "stdout",
     "output_type": "stream",
     "text": [
      "[1 1 1 1 1 1 1 1 1 1]\n"
     ]
    }
   ],
   "source": [
    "arreglo = np.ones(10, dtype = int)\n",
    "print(arreglo)"
   ]
  },
  {
   "cell_type": "code",
   "execution_count": 7,
   "metadata": {},
   "outputs": [
    {
     "name": "stdout",
     "output_type": "stream",
     "text": [
      "[ True  True  True  True  True  True  True  True  True  True]\n"
     ]
    }
   ],
   "source": [
    "arreglo = np.ones(10, dtype = bool)\n",
    "print(arreglo)"
   ]
  },
  {
   "cell_type": "code",
   "execution_count": 8,
   "metadata": {},
   "outputs": [
    {
     "name": "stdout",
     "output_type": "stream",
     "text": [
      "[1. 1. 1. 1. 1. 1. 1. 1. 1. 1.]\n"
     ]
    }
   ],
   "source": [
    "arreglo = np.ones(10, dtype = float)\n",
    "print(arreglo)"
   ]
  },
  {
   "cell_type": "markdown",
   "metadata": {},
   "source": [
    "### Arreglos llenos del mismo valor."
   ]
  },
  {
   "cell_type": "code",
   "execution_count": 9,
   "metadata": {},
   "outputs": [
    {
     "name": "stdout",
     "output_type": "stream",
     "text": [
      "[5 5 5 5 5 5 5 5 5 5]\n"
     ]
    }
   ],
   "source": [
    "arreglo = np.full(10, 5)\n",
    "print(arreglo)"
   ]
  },
  {
   "cell_type": "code",
   "execution_count": 10,
   "metadata": {},
   "outputs": [
    {
     "name": "stdout",
     "output_type": "stream",
     "text": [
      "['a' 'a' 'a' 'a' 'a' 'a' 'a' 'a' 'a' 'a']\n"
     ]
    }
   ],
   "source": [
    "arreglo = np.full(10, \"a\")\n",
    "print(arreglo)"
   ]
  },
  {
   "cell_type": "markdown",
   "metadata": {},
   "source": [
    "### Arreglos de dos dimensiones."
   ]
  },
  {
   "cell_type": "code",
   "execution_count": 11,
   "metadata": {},
   "outputs": [
    {
     "name": "stdout",
     "output_type": "stream",
     "text": [
      "[[2 2 2 2 2 2 2 2 2 2]\n",
      " [2 2 2 2 2 2 2 2 2 2]\n",
      " [2 2 2 2 2 2 2 2 2 2]\n",
      " [2 2 2 2 2 2 2 2 2 2]\n",
      " [2 2 2 2 2 2 2 2 2 2]]\n",
      "\n",
      "(5, 10)\n",
      "\n",
      "50\n"
     ]
    }
   ],
   "source": [
    "arreglo = np.full((5, 10), 2)\n",
    "# Imprimamos el arreglo.\n",
    "print(arreglo)\n",
    "print()\n",
    "# Imprimamos la forma del arreglo.\n",
    "print(arreglo.shape)\n",
    "print()\n",
    "# Imprimamos la cantidad de elementos del arreglo.\n",
    "print(arreglo.size)"
   ]
  },
  {
   "cell_type": "code",
   "execution_count": 12,
   "metadata": {},
   "outputs": [
    {
     "name": "stdout",
     "output_type": "stream",
     "text": [
      "[2 2 2 2 2 2 2 2 2 2]\n"
     ]
    }
   ],
   "source": [
    "print(arreglo[0])"
   ]
  },
  {
   "cell_type": "code",
   "execution_count": 13,
   "metadata": {},
   "outputs": [
    {
     "name": "stdout",
     "output_type": "stream",
     "text": [
      "2\n"
     ]
    }
   ],
   "source": [
    "print(arreglo[0][0]) "
   ]
  },
  {
   "cell_type": "markdown",
   "metadata": {},
   "source": [
    "### Arreglos llenos con valores enteros aleatorios.\n",
    "https://docs.scipy.org/doc/numpy-1.15.0/reference/generated/numpy.random.randint.html"
   ]
  },
  {
   "cell_type": "code",
   "execution_count": 14,
   "metadata": {},
   "outputs": [
    {
     "name": "stdout",
     "output_type": "stream",
     "text": [
      "[11  9  8 11  7  6 10  9 13  6 12  6  7 10  5 12  6  8 13 10  9  6  7  9\n",
      "  9  8 13  7  5 11  7  5  8 11  6  9  8 10  9 12]\n"
     ]
    }
   ],
   "source": [
    "# los primeros dos números son el rango y el tercero es cuántos números quieres que genere\n",
    "arreglo = np.random.randint(5,15,40)\n",
    "print(arreglo) "
   ]
  },
  {
   "cell_type": "markdown",
   "metadata": {},
   "source": [
    "### Arreglos llenos con valores aleatorios entre cero y uno.\n",
    "https://numpy.org/doc/1.16/reference/generated/numpy.random.random.html"
   ]
  },
  {
   "cell_type": "code",
   "execution_count": 15,
   "metadata": {},
   "outputs": [
    {
     "name": "stdout",
     "output_type": "stream",
     "text": [
      "[[0.33954944 0.17434143 0.30097277]\n",
      " [0.21166561 0.09548645 0.75892767]\n",
      " [0.08892648 0.44545696 0.06270668]\n",
      " [0.15803656 0.20509535 0.6606449 ]\n",
      " [0.33872751 0.43518491 0.71921485]]\n"
     ]
    }
   ],
   "source": [
    "# para el caso de decimales solo le indicas la dimensión del arreglo, los números que creará serán entre 0 y 1.\n",
    "arreglo = np.random.rand(5,3)\n",
    "print(arreglo)"
   ]
  },
  {
   "cell_type": "markdown",
   "metadata": {},
   "source": [
    "### Arreglos llenos con valores uniformemente distribuidos.\n",
    "https://docs.scipy.org/doc/numpy/reference/generated/numpy.linspace.html"
   ]
  },
  {
   "cell_type": "code",
   "execution_count": 16,
   "metadata": {},
   "outputs": [],
   "source": [
    "inicio = 0\n",
    "fin = 5\n",
    "elementos = 20"
   ]
  },
  {
   "cell_type": "code",
   "execution_count": 17,
   "metadata": {},
   "outputs": [
    {
     "name": "stdout",
     "output_type": "stream",
     "text": [
      "[0.         0.26315789 0.52631579 0.78947368 1.05263158 1.31578947\n",
      " 1.57894737 1.84210526 2.10526316 2.36842105 2.63157895 2.89473684\n",
      " 3.15789474 3.42105263 3.68421053 3.94736842 4.21052632 4.47368421\n",
      " 4.73684211 5.        ]\n"
     ]
    }
   ],
   "source": [
    "x = np.linspace(inicio, fin, elementos)\n",
    "print(x)"
   ]
  },
  {
   "cell_type": "code",
   "execution_count": 18,
   "metadata": {},
   "outputs": [
    {
     "name": "stdout",
     "output_type": "stream",
     "text": [
      "0.0\n",
      "0.2631578947368421\n",
      "5.0\n"
     ]
    }
   ],
   "source": [
    "print(x[0])\n",
    "print(x[1])\n",
    "print(x[19])"
   ]
  },
  {
   "cell_type": "markdown",
   "metadata": {},
   "source": [
    "$Elemento[0] = 0$\n",
    "<br>$Elemento[1] = Elemento[0] + 0.26315789473684210526315789473684$\n",
    "<br>$Elemento[2] = Elemento[1] + 0.26315789473684210526315789473684$\n",
    "<br>$\\vdots$\n",
    "<br>$Elemento[19] = Elemento[18] + 0.26315789473684210526315789473684$"
   ]
  },
  {
   "cell_type": "code",
   "execution_count": 19,
   "metadata": {},
   "outputs": [],
   "source": [
    "inicio = 5\n",
    "fin = 8\n",
    "elementos = 6"
   ]
  },
  {
   "cell_type": "markdown",
   "metadata": {},
   "source": [
    "### ¿Cómo calculamos la diferencia entre cada punto?\n",
    "$\\Delta = \\frac{fin - inicio}{elementos - 1}$\n",
    "<br>\n",
    "<br>$\\Delta = \\frac{8 - 5}{6 - 1}$\n",
    "<br>\n",
    "<br>$\\Delta = \\frac{3}{5}$\n",
    "<br>\n",
    "<br>$\\Delta = 0.6$"
   ]
  },
  {
   "cell_type": "code",
   "execution_count": 20,
   "metadata": {},
   "outputs": [
    {
     "name": "stdout",
     "output_type": "stream",
     "text": [
      "[5.  5.6 6.2 6.8 7.4 8. ]\n"
     ]
    }
   ],
   "source": [
    "x = np.linspace(inicio, fin, elementos)\n",
    "print(x)"
   ]
  },
  {
   "cell_type": "markdown",
   "metadata": {},
   "source": [
    "# Cambiando la forma de los arreglos."
   ]
  },
  {
   "cell_type": "code",
   "execution_count": 21,
   "metadata": {},
   "outputs": [
    {
     "name": "stdout",
     "output_type": "stream",
     "text": [
      "[ 0.          0.34482759  0.68965517  1.03448276  1.37931034  1.72413793\n",
      "  2.06896552  2.4137931   2.75862069  3.10344828  3.44827586  3.79310345\n",
      "  4.13793103  4.48275862  4.82758621  5.17241379  5.51724138  5.86206897\n",
      "  6.20689655  6.55172414  6.89655172  7.24137931  7.5862069   7.93103448\n",
      "  8.27586207  8.62068966  8.96551724  9.31034483  9.65517241 10.        ]\n"
     ]
    }
   ],
   "source": [
    "x = np.linspace(0, 10, 30)\n",
    "print(x)"
   ]
  },
  {
   "cell_type": "code",
   "execution_count": 22,
   "metadata": {},
   "outputs": [
    {
     "name": "stdout",
     "output_type": "stream",
     "text": [
      "(30,)\n"
     ]
    }
   ],
   "source": [
    "print(x.shape)"
   ]
  },
  {
   "cell_type": "code",
   "execution_count": 23,
   "metadata": {},
   "outputs": [
    {
     "name": "stdout",
     "output_type": "stream",
     "text": [
      "[[ 0.          0.34482759]\n",
      " [ 0.68965517  1.03448276]\n",
      " [ 1.37931034  1.72413793]\n",
      " [ 2.06896552  2.4137931 ]\n",
      " [ 2.75862069  3.10344828]\n",
      " [ 3.44827586  3.79310345]\n",
      " [ 4.13793103  4.48275862]\n",
      " [ 4.82758621  5.17241379]\n",
      " [ 5.51724138  5.86206897]\n",
      " [ 6.20689655  6.55172414]\n",
      " [ 6.89655172  7.24137931]\n",
      " [ 7.5862069   7.93103448]\n",
      " [ 8.27586207  8.62068966]\n",
      " [ 8.96551724  9.31034483]\n",
      " [ 9.65517241 10.        ]]\n"
     ]
    }
   ],
   "source": [
    "x = x.reshape((15,2))\n",
    "print(x)"
   ]
  },
  {
   "cell_type": "code",
   "execution_count": 24,
   "metadata": {},
   "outputs": [
    {
     "name": "stdout",
     "output_type": "stream",
     "text": [
      "(15, 2)\n"
     ]
    }
   ],
   "source": [
    "print(x.shape)"
   ]
  },
  {
   "cell_type": "code",
   "execution_count": 25,
   "metadata": {},
   "outputs": [
    {
     "name": "stdout",
     "output_type": "stream",
     "text": [
      "[[ 0.          0.34482759  0.68965517  1.03448276  1.37931034  1.72413793]\n",
      " [ 2.06896552  2.4137931   2.75862069  3.10344828  3.44827586  3.79310345]\n",
      " [ 4.13793103  4.48275862  4.82758621  5.17241379  5.51724138  5.86206897]\n",
      " [ 6.20689655  6.55172414  6.89655172  7.24137931  7.5862069   7.93103448]\n",
      " [ 8.27586207  8.62068966  8.96551724  9.31034483  9.65517241 10.        ]]\n"
     ]
    }
   ],
   "source": [
    "# el -1 hace que automáticamente calcule las columnas necesarias después de especificarle cuántos renglones quieres.\n",
    "x = x.reshape((5,-1))\n",
    "print(x)"
   ]
  },
  {
   "cell_type": "code",
   "execution_count": 26,
   "metadata": {},
   "outputs": [
    {
     "name": "stdout",
     "output_type": "stream",
     "text": [
      "(5, 6)\n"
     ]
    }
   ],
   "source": [
    "print(x.shape)"
   ]
  },
  {
   "cell_type": "code",
   "execution_count": 28,
   "metadata": {},
   "outputs": [
    {
     "name": "stdout",
     "output_type": "stream",
     "text": [
      "[[ 0.          0.34482759  0.68965517  1.03448276  1.37931034  1.72413793]\n",
      " [ 2.06896552  2.4137931   2.75862069  3.10344828  3.44827586  3.79310345]\n",
      " [ 4.13793103  4.48275862  4.82758621  5.17241379  5.51724138  5.86206897]\n",
      " [ 6.20689655  6.55172414  6.89655172  7.24137931  7.5862069   7.93103448]\n",
      " [ 8.27586207  8.62068966  8.96551724  9.31034483  9.65517241 10.        ]]\n"
     ]
    }
   ],
   "source": [
    "x = x.reshape((-1,6))\n",
    "print(x)"
   ]
  },
  {
   "cell_type": "code",
   "execution_count": 29,
   "metadata": {},
   "outputs": [
    {
     "name": "stdout",
     "output_type": "stream",
     "text": [
      "(5, 6)\n"
     ]
    }
   ],
   "source": [
    "print(x.shape)"
   ]
  },
  {
   "cell_type": "markdown",
   "metadata": {},
   "source": [
    "# Haciendo operaciones con arreglos."
   ]
  },
  {
   "cell_type": "code",
   "execution_count": 30,
   "metadata": {},
   "outputs": [
    {
     "name": "stdout",
     "output_type": "stream",
     "text": [
      "[10 10 10 10 10]\n",
      "[ 2.  4.  6.  8. 10.]\n"
     ]
    }
   ],
   "source": [
    "x = np.full(5, 10)\n",
    "y = np.linspace(2, 10, 5)\n",
    "print(x)\n",
    "print(y)"
   ]
  },
  {
   "cell_type": "code",
   "execution_count": 31,
   "metadata": {},
   "outputs": [
    {
     "name": "stdout",
     "output_type": "stream",
     "text": [
      "[12. 14. 16. 18. 20.]\n"
     ]
    }
   ],
   "source": [
    "print(x + y)"
   ]
  },
  {
   "cell_type": "code",
   "execution_count": 32,
   "metadata": {},
   "outputs": [
    {
     "name": "stdout",
     "output_type": "stream",
     "text": [
      "[8. 6. 4. 2. 0.]\n"
     ]
    }
   ],
   "source": [
    "print(x - y)"
   ]
  },
  {
   "cell_type": "code",
   "execution_count": 33,
   "metadata": {},
   "outputs": [
    {
     "name": "stdout",
     "output_type": "stream",
     "text": [
      "[ 20.  40.  60.  80. 100.]\n"
     ]
    }
   ],
   "source": [
    "print(x * y)"
   ]
  },
  {
   "cell_type": "code",
   "execution_count": 34,
   "metadata": {},
   "outputs": [
    {
     "name": "stdout",
     "output_type": "stream",
     "text": [
      "[  4.  16.  36.  64. 100.]\n"
     ]
    }
   ],
   "source": [
    "print(y**2)"
   ]
  },
  {
   "cell_type": "markdown",
   "metadata": {
    "collapsed": true
   },
   "source": [
    "# Algunos operadores disponibles en Numpy\n",
    "$np.add$\n",
    "<br>$np.substract$\n",
    "<br>$np.negative$\n",
    "<br>$np.multiply$\n",
    "<br>$np.divide$\n",
    "<br>$np.power$"
   ]
  },
  {
   "cell_type": "code",
   "execution_count": 35,
   "metadata": {},
   "outputs": [
    {
     "name": "stdout",
     "output_type": "stream",
     "text": [
      "[12 12 12 12 12]\n"
     ]
    }
   ],
   "source": [
    "print(np.add(x,2))"
   ]
  },
  {
   "cell_type": "code",
   "execution_count": 36,
   "metadata": {},
   "outputs": [
    {
     "name": "stdout",
     "output_type": "stream",
     "text": [
      "[   8.   64.  216.  512. 1000.]\n"
     ]
    }
   ],
   "source": [
    "print(np.power(y,3))"
   ]
  },
  {
   "cell_type": "markdown",
   "metadata": {
    "collapsed": true
   },
   "source": [
    "# Algunas funciones disponibles en Numpy\n",
    "$np.abs$\n",
    "<br>$np.sin$\n",
    "<br>$np.cos$\n",
    "<br>$np.tan$\n",
    "<br>$np.exp$\n",
    "<br>$np.log$"
   ]
  },
  {
   "cell_type": "code",
   "execution_count": 37,
   "metadata": {},
   "outputs": [
    {
     "name": "stdout",
     "output_type": "stream",
     "text": [
      "[7.38905610e+00 5.45981500e+01 4.03428793e+02 2.98095799e+03\n",
      " 2.20264658e+04]\n"
     ]
    }
   ],
   "source": [
    "print(np.exp(y))"
   ]
  },
  {
   "cell_type": "code",
   "execution_count": 38,
   "metadata": {},
   "outputs": [
    {
     "name": "stdout",
     "output_type": "stream",
     "text": [
      "[-0.41614684 -0.65364362  0.96017029 -0.14550003 -0.83907153]\n"
     ]
    }
   ],
   "source": [
    "print(np.cos(y))"
   ]
  },
  {
   "cell_type": "markdown",
   "metadata": {
    "collapsed": true
   },
   "source": [
    "# Algunas funciones de estádistica disponibles en Numpy\n",
    "$np.min$\n",
    "<br>$np.max$\n",
    "<br>$np.std$\n",
    "<br>$np.var$\n",
    "<br>$np.median$\n",
    "<br>$np.percentile$"
   ]
  },
  {
   "cell_type": "code",
   "execution_count": 39,
   "metadata": {},
   "outputs": [
    {
     "name": "stdout",
     "output_type": "stream",
     "text": [
      "10.0\n"
     ]
    }
   ],
   "source": [
    "print(np.max(y))"
   ]
  },
  {
   "cell_type": "code",
   "execution_count": 40,
   "metadata": {},
   "outputs": [
    {
     "name": "stdout",
     "output_type": "stream",
     "text": [
      "2.8284271247461903\n"
     ]
    }
   ],
   "source": [
    "print(np.std(y))"
   ]
  },
  {
   "cell_type": "code",
   "execution_count": null,
   "metadata": {},
   "outputs": [],
   "source": []
  }
 ],
 "metadata": {
  "kernelspec": {
   "display_name": "Python 3",
   "language": "python",
   "name": "python3"
  },
  "language_info": {
   "codemirror_mode": {
    "name": "ipython",
    "version": 3
   },
   "file_extension": ".py",
   "mimetype": "text/x-python",
   "name": "python",
   "nbconvert_exporter": "python",
   "pygments_lexer": "ipython3",
   "version": "3.8.8"
  }
 },
 "nbformat": 4,
 "nbformat_minor": 2
}
